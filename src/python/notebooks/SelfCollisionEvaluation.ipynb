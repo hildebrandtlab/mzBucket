{
 "cells": [
  {
   "cell_type": "code",
   "execution_count": 1,
   "id": "d07d6cab",
   "metadata": {},
   "outputs": [],
   "source": [
    "import os\n",
    "os.environ['TF_CPP_MIN_LOG_LEVEL'] = '3'  # or any {'0', '1', '2'}\n",
    "\n",
    "import time\n",
    "from tqdm.notebook import tqdm\n",
    "\n",
    "from proteolizarddata.data import PyTimsDataHandle, TimsFrame, MzSpectrum\n",
    "from proteolizardalgo.hashing import TimsHasher, IsotopeReferenceSearch, ReferencePattern\n",
    "from proteolizardalgo.utility import create_reference_dict, get_refspec_list, get_ref_pattern_as_spectra\n",
    "\n",
    "import tensorflow as tf\n",
    "from matplotlib import pyplot as plt\n",
    "import numpy as np\n",
    "import pandas as pd\n",
    "import seaborn as sns\n",
    "from sklearn.neighbors import KDTree"
   ]
  },
  {
   "cell_type": "code",
   "execution_count": 2,
   "id": "97dbba1e",
   "metadata": {},
   "outputs": [],
   "source": [
    "dh = PyTimsDataHandle('../../../data/M210115_001_Slot1-1_1_850.d/')\n",
    "selected_ions = dh.get_selected_precursors()"
   ]
  },
  {
   "cell_type": "code",
   "execution_count": 3,
   "id": "5249c5bd",
   "metadata": {},
   "outputs": [],
   "source": [
    "def match_patterns_with_vendor_selected(mz_bins, scans, tmp_patterns, allowed_distance=5):\n",
    "    \n",
    "    is_overlapping = (np.sign(mz_bins) - 1) / (-2)\n",
    "    \n",
    "    range_start = WINDOW_LENGTH * np.abs(mz_bins) - is_overlapping * (WINDOW_LENGTH / 2) \n",
    "    range_stop = range_start + WINDOW_LENGTH\n",
    "    \n",
    "    as_frame = pd.DataFrame({'mz_start': range_start, 'mz_stop': range_stop,\n",
    "                             'mz_mid': range_start + WINDOW_LENGTH / 2,\n",
    "                             'scan_start': scans - 7, 'scan_stop': scans + 7,\n",
    "                             'scan_mid': scans})\n",
    "    \n",
    "    \n",
    "    tmp_patterns['scan'] = np.round(tmp_patterns.ScanNumber.values, 1)\n",
    "    tmp_patterns['mz'] = np.round(tmp_patterns.MonoisotopicMz.values, 2)\n",
    "\n",
    "    tmp_patterns = tmp_patterns[['Parent', 'mz', 'scan']]\n",
    "\n",
    "    kdt = KDTree(as_frame[['scan_mid', 'mz_mid']].values, leaf_size=30, metric='manhattan')\n",
    "    distance, index = kdt.query(tmp_patterns[['scan', 'mz']].values)\n",
    "\n",
    "    matched = pd.DataFrame(np.hstack((np.squeeze(as_frame.values[index]), \n",
    "                                      tmp_patterns.values, distance)), columns=['mz_start',\n",
    "                                                                                'mz_stop',\n",
    "                                                                                'mz_mid',\n",
    "                                                                                'scan_start',\n",
    "                                                                                'scan_stop',  \n",
    "                                                                                'scan_mid',\n",
    "                                                                                'Parent', \n",
    "                                                                                'mz', \n",
    "                                                                                'scan',\n",
    "                                                                                'distance'])\n",
    "\n",
    "    matched['mz_diff'] = np.abs(matched.mz_mid - matched.mz)\n",
    "    matched['scan_diff'] = np.abs(matched.scan_mid - matched.scan)\n",
    "\n",
    "    fetched = matched[matched.distance <= allowed_distance]\n",
    "    not_fetched = matched[matched.distance > allowed_distance]\n",
    "\n",
    "    return fetched, not_fetched"
   ]
  },
  {
   "cell_type": "code",
   "execution_count": 4,
   "id": "dc8eb574",
   "metadata": {},
   "outputs": [
    {
     "data": {
      "text/html": [
       "<div>\n",
       "<style scoped>\n",
       "    .dataframe tbody tr th:only-of-type {\n",
       "        vertical-align: middle;\n",
       "    }\n",
       "\n",
       "    .dataframe tbody tr th {\n",
       "        vertical-align: top;\n",
       "    }\n",
       "\n",
       "    .dataframe thead th {\n",
       "        text-align: right;\n",
       "    }\n",
       "</style>\n",
       "<table border=\"1\" class=\"dataframe\">\n",
       "  <thead>\n",
       "    <tr style=\"text-align: right;\">\n",
       "      <th></th>\n",
       "      <th>Id</th>\n",
       "      <th>LargestPeakMz</th>\n",
       "      <th>AverageMz</th>\n",
       "      <th>MonoisotopicMz</th>\n",
       "      <th>Charge</th>\n",
       "      <th>ScanNumber</th>\n",
       "      <th>Intensity</th>\n",
       "      <th>Parent</th>\n",
       "    </tr>\n",
       "  </thead>\n",
       "  <tbody>\n",
       "    <tr>\n",
       "      <th>0</th>\n",
       "      <td>1</td>\n",
       "      <td>850.791519</td>\n",
       "      <td>851.254552</td>\n",
       "      <td>850.791519</td>\n",
       "      <td>1.0</td>\n",
       "      <td>431.214477</td>\n",
       "      <td>3042.0</td>\n",
       "      <td>1</td>\n",
       "    </tr>\n",
       "    <tr>\n",
       "      <th>1</th>\n",
       "      <td>2</td>\n",
       "      <td>749.893834</td>\n",
       "      <td>750.174519</td>\n",
       "      <td>749.893834</td>\n",
       "      <td>1.0</td>\n",
       "      <td>481.389706</td>\n",
       "      <td>3016.0</td>\n",
       "      <td>1</td>\n",
       "    </tr>\n",
       "    <tr>\n",
       "      <th>2</th>\n",
       "      <td>3</td>\n",
       "      <td>640.883152</td>\n",
       "      <td>641.137708</td>\n",
       "      <td>640.883152</td>\n",
       "      <td>1.0</td>\n",
       "      <td>532.168868</td>\n",
       "      <td>9070.0</td>\n",
       "      <td>1</td>\n",
       "    </tr>\n",
       "    <tr>\n",
       "      <th>3</th>\n",
       "      <td>4</td>\n",
       "      <td>574.293780</td>\n",
       "      <td>574.581787</td>\n",
       "      <td>574.293780</td>\n",
       "      <td>2.0</td>\n",
       "      <td>666.702309</td>\n",
       "      <td>8978.0</td>\n",
       "      <td>1</td>\n",
       "    </tr>\n",
       "    <tr>\n",
       "      <th>4</th>\n",
       "      <td>5</td>\n",
       "      <td>459.255707</td>\n",
       "      <td>459.502542</td>\n",
       "      <td>459.255707</td>\n",
       "      <td>2.0</td>\n",
       "      <td>738.705002</td>\n",
       "      <td>5193.0</td>\n",
       "      <td>1</td>\n",
       "    </tr>\n",
       "    <tr>\n",
       "      <th>...</th>\n",
       "      <td>...</td>\n",
       "      <td>...</td>\n",
       "      <td>...</td>\n",
       "      <td>...</td>\n",
       "      <td>...</td>\n",
       "      <td>...</td>\n",
       "      <td>...</td>\n",
       "      <td>...</td>\n",
       "    </tr>\n",
       "    <tr>\n",
       "      <th>159750</th>\n",
       "      <td>159751</td>\n",
       "      <td>622.025454</td>\n",
       "      <td>622.025454</td>\n",
       "      <td>NaN</td>\n",
       "      <td>NaN</td>\n",
       "      <td>580.739867</td>\n",
       "      <td>3415.0</td>\n",
       "      <td>63813</td>\n",
       "    </tr>\n",
       "    <tr>\n",
       "      <th>159751</th>\n",
       "      <td>159752</td>\n",
       "      <td>1221.987656</td>\n",
       "      <td>1222.591240</td>\n",
       "      <td>1221.987656</td>\n",
       "      <td>1.0</td>\n",
       "      <td>226.036453</td>\n",
       "      <td>3825.0</td>\n",
       "      <td>63842</td>\n",
       "    </tr>\n",
       "    <tr>\n",
       "      <th>159752</th>\n",
       "      <td>159753</td>\n",
       "      <td>622.028638</td>\n",
       "      <td>622.283194</td>\n",
       "      <td>622.028638</td>\n",
       "      <td>1.0</td>\n",
       "      <td>581.280292</td>\n",
       "      <td>2905.0</td>\n",
       "      <td>63842</td>\n",
       "    </tr>\n",
       "    <tr>\n",
       "      <th>159753</th>\n",
       "      <td>159754</td>\n",
       "      <td>922.008974</td>\n",
       "      <td>922.489243</td>\n",
       "      <td>922.008974</td>\n",
       "      <td>1.0</td>\n",
       "      <td>402.424060</td>\n",
       "      <td>2870.0</td>\n",
       "      <td>63890</td>\n",
       "    </tr>\n",
       "    <tr>\n",
       "      <th>159754</th>\n",
       "      <td>159755</td>\n",
       "      <td>1221.989765</td>\n",
       "      <td>1222.593349</td>\n",
       "      <td>1221.989765</td>\n",
       "      <td>1.0</td>\n",
       "      <td>227.225000</td>\n",
       "      <td>2574.0</td>\n",
       "      <td>63993</td>\n",
       "    </tr>\n",
       "  </tbody>\n",
       "</table>\n",
       "<p>159755 rows × 8 columns</p>\n",
       "</div>"
      ],
      "text/plain": [
       "            Id  LargestPeakMz    AverageMz  MonoisotopicMz  Charge  \\\n",
       "0            1     850.791519   851.254552      850.791519     1.0   \n",
       "1            2     749.893834   750.174519      749.893834     1.0   \n",
       "2            3     640.883152   641.137708      640.883152     1.0   \n",
       "3            4     574.293780   574.581787      574.293780     2.0   \n",
       "4            5     459.255707   459.502542      459.255707     2.0   \n",
       "...        ...            ...          ...             ...     ...   \n",
       "159750  159751     622.025454   622.025454             NaN     NaN   \n",
       "159751  159752    1221.987656  1222.591240     1221.987656     1.0   \n",
       "159752  159753     622.028638   622.283194      622.028638     1.0   \n",
       "159753  159754     922.008974   922.489243      922.008974     1.0   \n",
       "159754  159755    1221.989765  1222.593349     1221.989765     1.0   \n",
       "\n",
       "        ScanNumber  Intensity  Parent  \n",
       "0       431.214477     3042.0       1  \n",
       "1       481.389706     3016.0       1  \n",
       "2       532.168868     9070.0       1  \n",
       "3       666.702309     8978.0       1  \n",
       "4       738.705002     5193.0       1  \n",
       "...            ...        ...     ...  \n",
       "159750  580.739867     3415.0   63813  \n",
       "159751  226.036453     3825.0   63842  \n",
       "159752  581.280292     2905.0   63842  \n",
       "159753  402.424060     2870.0   63890  \n",
       "159754  227.225000     2574.0   63993  \n",
       "\n",
       "[159755 rows x 8 columns]"
      ]
     },
     "execution_count": 4,
     "metadata": {},
     "output_type": "execute_result"
    }
   ],
   "source": [
    "selected_ions"
   ]
  },
  {
   "cell_type": "code",
   "execution_count": 5,
   "id": "db58a8d9",
   "metadata": {},
   "outputs": [],
   "source": [
    "frames = [dh.get_frame(f) for f in np.random.choice(selected_ions.Parent.values[1500:], 50)]"
   ]
  },
  {
   "cell_type": "code",
   "execution_count": 6,
   "id": "272eb49e",
   "metadata": {},
   "outputs": [],
   "source": [
    "WINDOW_LENGTH = 10\n",
    "RESOLUTION = 1\n",
    "\n",
    "N = np.linspace(16,32,num=8).astype(np.int16)\n",
    "M = np.linspace(16,80,num=10).astype(np.int16)"
   ]
  },
  {
   "cell_type": "code",
   "execution_count": 7,
   "id": "5089c3bf",
   "metadata": {},
   "outputs": [
    {
     "data": {
      "text/plain": [
       "(array([16, 18, 20, 22, 25, 27, 29, 32], dtype=int16),\n",
       " array([16, 23, 30, 37, 44, 51, 58, 65, 72, 80], dtype=int16))"
      ]
     },
     "execution_count": 7,
     "metadata": {},
     "output_type": "execute_result"
    }
   ],
   "source": [
    "N,M"
   ]
  },
  {
   "cell_type": "code",
   "execution_count": 8,
   "id": "629e467a",
   "metadata": {},
   "outputs": [
    {
     "data": {
      "text/plain": [
       "(8, 10)"
      ]
     },
     "execution_count": 8,
     "metadata": {},
     "output_type": "execute_result"
    }
   ],
   "source": [
    "num_n = N.shape[0]\n",
    "num_m = M.shape[0]\n",
    "num_n,num_m"
   ]
  },
  {
   "cell_type": "code",
   "execution_count": 9,
   "id": "9ec38b7b",
   "metadata": {},
   "outputs": [],
   "source": [
    "FETCHED = np.zeros((num_n, num_m))\n",
    "REDUCED = np.zeros((num_n, num_m))"
   ]
  },
  {
   "cell_type": "code",
   "execution_count": 10,
   "id": "9bd9bcc4",
   "metadata": {
    "scrolled": true
   },
   "outputs": [
    {
     "data": {
      "application/vnd.jupyter.widget-view+json": {
       "model_id": "bf7a52072f274e3ab5ed21472223fe52",
       "version_major": 2,
       "version_minor": 0
      },
      "text/plain": [
       "  0%|          | 0/8 [00:00<?, ?it/s]"
      ]
     },
     "metadata": {},
     "output_type": "display_data"
    }
   ],
   "source": [
    "for i, n in tqdm(enumerate(N), total=num_n):\n",
    "    \n",
    "    for j, m in enumerate(M):\n",
    "        \n",
    "        hasher = TimsHasher(trials=m, len_trial=n, num_dalton=WINDOW_LENGTH, resolution=RESOLUTION)\n",
    "        \n",
    "        rate_list, reduction_list = [], []\n",
    "        \n",
    "        for frame in frames:\n",
    "            \n",
    "            f = frame.frame_id()\n",
    "            \n",
    "            tmp_patterns = selected_ions[selected_ions.Parent == f]\n",
    "            tmp_patterns = tmp_patterns.dropna()\n",
    "            \n",
    "            if tmp_patterns.shape[0] != 0:\n",
    "                \n",
    "                s, b, W = frame.get_dense_windows(window_length=WINDOW_LENGTH, resolution=RESOLUTION, \n",
    "                                                  overlapping=True, min_intensity=25)\n",
    "                K = hasher.calculate_keys(W)\n",
    "                \n",
    "                total_data = len(b)\n",
    "                \n",
    "                mz_bins, scans = hasher.calculate_collisions(K, s, b)\n",
    "                \n",
    "                filtered_data = len(mz_bins)\n",
    "                \n",
    "                fetched, not_fetched = match_patterns_with_vendor_selected(mz_bins, scans, tmp_patterns)\n",
    "                fetch_rate = fetched.shape[0] / (fetched.shape[0] + not_fetched.shape[0])\n",
    "                \n",
    "                rate_list.append(fetch_rate)\n",
    "                tmp_red_value = 1 - filtered_data / total_data\n",
    "                reduction_list.append(tmp_red_value)\n",
    "        \n",
    "        if len(rate_list) != 0:\n",
    "            FETCHED[i, j] = np.round(np.mean(rate_list), 3)\n",
    "            REDUCED[i, j] = np.round(np.mean(reduction_list), 3)"
   ]
  },
  {
   "cell_type": "code",
   "execution_count": 11,
   "id": "91e935af",
   "metadata": {},
   "outputs": [],
   "source": [
    "# Plot settings ---------------------------------------\n",
    "widthMM = 170 \n",
    "widthInch = widthMM / 25.4\n",
    "ratio = 0.66666\n",
    "heigthInch = ratio*widthInch\n",
    "\n",
    "SMALL_SIZE = 8\n",
    "MEDIUM_SIZE = 10\n",
    "BIGGER_SIZE = 12\n",
    "\n",
    "plt.rc('font', size=SMALL_SIZE)          # controls default text sizes\n",
    "plt.rc('axes', titlesize=SMALL_SIZE)     # fontsize of the axes title\n",
    "plt.rc('axes', labelsize=MEDIUM_SIZE)    # fontsize of the x and y labels\n",
    "plt.rc('xtick', labelsize=SMALL_SIZE)    # fontsize of the tick labels\n",
    "plt.rc('ytick', labelsize=SMALL_SIZE)    # fontsize of the tick labels\n",
    "plt.rc('legend', fontsize=SMALL_SIZE)    # legend fontsize\n",
    "plt.rc('figure', titlesize=BIGGER_SIZE)  # fontsize of the figure title\n",
    "sns.set_style(\"ticks\")\n",
    "\n",
    "dpi = 300"
   ]
  },
  {
   "cell_type": "code",
   "execution_count": 12,
   "id": "7fd7e9c0",
   "metadata": {},
   "outputs": [
    {
     "data": {
      "image/png": "[encoded data removed]",
      "text/plain": [
       "<Figure size 2007.87x1338.57 with 3 Axes>"
      ]
     },
     "metadata": {},
     "output_type": "display_data"
    }
   ],
   "source": [
    "fig, ax = plt.subplots(1,2,figsize=(widthInch, heigthInch),dpi=dpi,sharey=True)\n",
    "\n",
    "ax[0].title.set_text('Fraction of precursors kept')\n",
    "im = ax[0].imshow(FETCHED.T)\n",
    "ax[0].set_ylabel('m')\n",
    "ax[0].set_xlabel('n')\n",
    "\n",
    "plt.sca(ax[0])\n",
    "plt.xticks(range(num_n), [n for n in N])\n",
    "plt.yticks(range(num_m), [m for m in M])\n",
    "\n",
    "\n",
    "ax[1].title.set_text('Data reduction rate')\n",
    "ax[1].imshow(REDUCED.T)\n",
    "ax[1].set_ylabel('m')\n",
    "ax[1].set_xlabel('n')\n",
    "\n",
    "plt.sca(ax[1])\n",
    "plt.xticks(range(num_n), [n for n in N])\n",
    "plt.yticks(range(num_m), [m for m in M])\n",
    "\n",
    "cbar = fig.colorbar(im, ax=ax.ravel().tolist(), shrink=0.95)\n",
    "       \n",
    "plt.savefig(\"../../../plots/evaluation_big.pdf\",dpi=dpi)\n",
    "\n",
    "plt.show()"
   ]
  },
  {
   "cell_type": "code",
   "execution_count": null,
   "id": "2960a87c",
   "metadata": {},
   "outputs": [],
   "source": []
  }
 ],
 "metadata": {
  "kernelspec": {
   "display_name": "Python 3",
   "language": "python",
   "name": "python3"
  },
  "language_info": {
   "codemirror_mode": {
    "name": "ipython",
    "version": 3
   },
   "file_extension": ".py",
   "mimetype": "text/x-python",
   "name": "python",
   "nbconvert_exporter": "python",
   "pygments_lexer": "ipython3",
   "version": "3.8.12"
  }
 },
 "nbformat": 4,
 "nbformat_minor": 5
}
